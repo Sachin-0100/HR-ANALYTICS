{
  "nbformat": 4,
  "nbformat_minor": 0,
  "metadata": {
    "colab": {
      "private_outputs": true,
      "provenance": []
    },
    "kernelspec": {
      "name": "python3",
      "display_name": "Python 3"
    },
    "language_info": {
      "name": "python"
    }
  },
  "cells": [
    {
      "cell_type": "code",
      "execution_count": null,
      "metadata": {
        "id": "EkDvqyXMC5Ji"
      },
      "outputs": [],
      "source": [
        "import pandas as pd\n",
        "import numpy as np\n",
        "import matplotlib.pyplot as plt\n",
        "import seaborn as sns"
      ]
    },
    {
      "cell_type": "code",
      "source": [
        "df = pd.read_csv('/content/employees.csv')\n",
        "df.head()"
      ],
      "metadata": {
        "id": "Vk3LT3g5DpGS"
      },
      "execution_count": null,
      "outputs": []
    },
    {
      "cell_type": "code",
      "source": [
        "df.shape"
      ],
      "metadata": {
        "id": "JGWv8xLfDvNu"
      },
      "execution_count": null,
      "outputs": []
    },
    {
      "cell_type": "code",
      "source": [
        "df.info()"
      ],
      "metadata": {
        "id": "yLsY-Yn7D4RH"
      },
      "execution_count": null,
      "outputs": []
    },
    {
      "cell_type": "code",
      "source": [
        "df.isnull().sum()"
      ],
      "metadata": {
        "id": "xgxT3TZeD8x8"
      },
      "execution_count": null,
      "outputs": []
    },
    {
      "cell_type": "code",
      "source": [
        "df.describe()"
      ],
      "metadata": {
        "id": "4sgOqyB6EA3s"
      },
      "execution_count": null,
      "outputs": []
    },
    {
      "cell_type": "code",
      "source": [
        "df.corr()"
      ],
      "metadata": {
        "id": "Wus7W16dEDWy"
      },
      "execution_count": null,
      "outputs": []
    },
    {
      "cell_type": "code",
      "source": [
        "df[df.duplicated()]"
      ],
      "metadata": {
        "id": "2vkua7gbGMcd"
      },
      "execution_count": null,
      "outputs": []
    },
    {
      "cell_type": "code",
      "source": [
        "df.drop_duplicates()"
      ],
      "metadata": {
        "id": "6BfSTDtfGeHB"
      },
      "execution_count": null,
      "outputs": []
    },
    {
      "cell_type": "code",
      "source": [
        "df.left.value_counts().plot(kind='pie',autopct='%.2f')"
      ],
      "metadata": {
        "id": "zBk1HDv_NCKm"
      },
      "execution_count": null,
      "outputs": []
    },
    {
      "cell_type": "markdown",
      "source": [
        "- 23.81% people left the company "
      ],
      "metadata": {
        "id": "m5AYtkqFNiXe"
      }
    },
    {
      "cell_type": "code",
      "source": [
        "plt.figure(figsize = (10,6))\n",
        "sns.countplot(df['numberOfProjects'],data = df,hue = 'left')"
      ],
      "metadata": {
        "id": "-QkIBLjyFXSP"
      },
      "execution_count": null,
      "outputs": []
    },
    {
      "cell_type": "markdown",
      "source": [
        "- due low and high  no. of projects the employees  want to leave the company \n",
        "- 3 no. of project are safer \n",
        "-higher the no. of project the employees leave the company"
      ],
      "metadata": {
        "id": "lGXrjs19KbXl"
      }
    },
    {
      "cell_type": "code",
      "source": [
        "plt.figure(figsize = (10,6))\n",
        "sns.countplot(df['timeSpent.company'],data = df,hue = 'left')"
      ],
      "metadata": {
        "id": "8MgLCWMcIqij"
      },
      "execution_count": null,
      "outputs": []
    },
    {
      "cell_type": "markdown",
      "source": [
        " - Between 3 - 5 years of experiance in the company employee leaving the company\n",
        "\n"
      ],
      "metadata": {
        "id": "udVP2XHbLrcN"
      }
    },
    {
      "cell_type": "code",
      "source": [
        "plt.figure(figsize = (10,6))\n",
        "sns.countplot(df['workAccident'],data = df,hue = 'left')"
      ],
      "metadata": {
        "id": "PSRAJ-ooJe5o"
      },
      "execution_count": null,
      "outputs": []
    },
    {
      "cell_type": "code",
      "source": [
        "plt.figure(figsize = (10,6))\n",
        "sns.countplot(df['promotionInLast5years'],data = df,hue = 'left')"
      ],
      "metadata": {
        "id": "I_SZ2wWdJyjX"
      },
      "execution_count": null,
      "outputs": []
    },
    {
      "cell_type": "markdown",
      "source": [
        "- due to 0 promotion employees are leaving the company"
      ],
      "metadata": {
        "id": "fFnMQ92YMKiw"
      }
    },
    {
      "cell_type": "code",
      "source": [
        "plt.figure(figsize = (10,6))\n",
        "sns.countplot(df['salary'],data = df,hue = 'left')"
      ],
      "metadata": {
        "id": "C_S7J9GMJ7OA"
      },
      "execution_count": null,
      "outputs": []
    },
    {
      "cell_type": "markdown",
      "source": [
        "- lower the salary the employers will leave the company "
      ],
      "metadata": {
        "id": "Q14hFOx_Miir"
      }
    },
    {
      "cell_type": "code",
      "source": [
        "df.salary.value_counts()"
      ],
      "metadata": {
        "id": "LjtgD_nHdXdp"
      },
      "execution_count": null,
      "outputs": []
    },
    {
      "cell_type": "code",
      "source": [
        "print(round(len(df[(df['salary']=='low')&(df['left']==1)])/sum(df.left)*100,2))"
      ],
      "metadata": {
        "id": "yDGm5GQnc6LD"
      },
      "execution_count": null,
      "outputs": []
    },
    {
      "cell_type": "markdown",
      "source": [
        "- over 60.82% employee left because of low salary"
      ],
      "metadata": {
        "id": "zWJ97_gxdJlz"
      }
    },
    {
      "cell_type": "code",
      "source": [
        "print(round(len(df[(df['salary']=='medium')&(df['left']==1)])/sum(df.left)*100,2))"
      ],
      "metadata": {
        "id": "1t1c7AzYdM2P"
      },
      "execution_count": null,
      "outputs": []
    },
    {
      "cell_type": "code",
      "source": [
        "pd.crosstab(df.left,df.dept)"
      ],
      "metadata": {
        "id": "isVhuQ6nKIIr"
      },
      "execution_count": null,
      "outputs": []
    },
    {
      "cell_type": "code",
      "source": [
        "plt.figure(figsize = (10,6))\n",
        "sns.countplot(df['dept'],data = df,hue = 'left')"
      ],
      "metadata": {
        "id": "BUMcrQkfJ6fH"
      },
      "execution_count": null,
      "outputs": []
    },
    {
      "cell_type": "markdown",
      "source": [
        "- most of the employees arfe leaving from sale,technical & support dept "
      ],
      "metadata": {
        "id": "Ox8KjNNrMVdy"
      }
    },
    {
      "cell_type": "code",
      "source": [
        "print(round(len(df[(df['dept']=='sales')&(df['left']==1)])/sum(df.left)*100,2))"
      ],
      "metadata": {
        "id": "JGBKlPk9RIen"
      },
      "execution_count": null,
      "outputs": []
    },
    {
      "cell_type": "markdown",
      "source": [
        "28.4 % left the compony from Sales Dept"
      ],
      "metadata": {
        "id": "1qUTrfqjRqC1"
      }
    },
    {
      "cell_type": "code",
      "source": [
        "print(round(len(df[(df['dept']=='support')&(df['left']==1)])/sum(df.left)*100,2))"
      ],
      "metadata": {
        "id": "insI9TQ5RFKB"
      },
      "execution_count": null,
      "outputs": []
    },
    {
      "cell_type": "markdown",
      "source": [
        "15.54 % people left the company from support Dept"
      ],
      "metadata": {
        "id": "Tu5g9A2mSStC"
      }
    },
    {
      "cell_type": "code",
      "source": [
        "print(len(df[(df['dept']=='technical')&(df['left']==1)])/sum(df.left)*100)"
      ],
      "metadata": {
        "id": "CJZksWHZQWM3"
      },
      "execution_count": null,
      "outputs": []
    },
    {
      "cell_type": "markdown",
      "source": [
        "19.51% employee left the compampy in techinal Dept "
      ],
      "metadata": {
        "id": "s6iQ8ODHRNFj"
      }
    },
    {
      "cell_type": "markdown",
      "source": [
        "### CONCLUSION"
      ],
      "metadata": {
        "id": "DdKS4d6EXLh4"
      }
    },
    {
      "cell_type": "markdown",
      "source": [
        "- over 60.82% employee left because of low salary \n",
        "- 28.4 % left the compony from Sales Dept\n"
      ],
      "metadata": {
        "id": "cJdPwA3VXZZh"
      }
    },
    {
      "cell_type": "markdown",
      "source": [
        "- BY INCREASING THE SALARY MAY LEAD TO NOT LEAVE THE COMPANY\n",
        "- IN SALES DEPT COMPANY HAS TO BRING CHANGES "
      ],
      "metadata": {
        "id": "BPFIrWjrX0zz"
      }
    }
  ]
}